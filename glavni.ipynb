{
 "cells": [
  {
   "cell_type": "markdown",
   "metadata": {
    "collapsed": true
   },
   "source": [
    "# Projekat: Multivarijabilna regresija nad Ames Housing Dataset-om\n",
    "\n",
    "## Uvod\n",
    "     Ovaj dataset se sastoji od 81 obelezja koje pokrivaju relevantne karakteristike trzista nekretnina u Ames,Iowa,USA. Problem sa ovim obelezjima cesto moze predstavljati cinjenica da su visoko korelirana i da nam bas ne treba svako ili nam cak mogu i odmognuti  u nalazenju tacnih cena nekretnina koje zelimo da predvidjamo, kao sto je to npr. preteratno poklapanje ili over-fitting. Cilj ovog projekta je da smanji broj obelezja na neki pristojan broj (u ovom slucaju da se smanji sa 81 na 50), koja ce pomoci u nalazenju optimalnih resenja, u skladu sa skromnim znanjem istrazivaca (nikakvim) i primenom raznih metoda smanjivanja i regularizacionih parametara. Cilj ovog projekta nije da napravi komercijalni niti kvalitetan algoritam, vec iskljucivo predstavlja istrazivacki rad koji u jednom slucaju cak i dovodi do neuspesnog rezultata.\n",
    "     "
   ]
  },
  {
   "cell_type": "markdown",
   "metadata": {},
   "source": [
    "# Pocetni unos biblioteka koje ce se koristiti u daljem projektu"
   ]
  },
  {
   "cell_type": "code",
   "execution_count": 1,
   "metadata": {
    "collapsed": true
   },
   "outputs": [],
   "source": [
    "import pandas as pd\n",
    "import os\n",
    "import matplotlib.pyplot as plt\n",
    "import numbers \n",
    "import numpy as np\n",
    "from sklearn.preprocessing import LabelEncoder\n",
    "import copy\n",
    "import random\n",
    "%matplotlib inline"
   ]
  },
  {
   "cell_type": "code",
   "execution_count": 2,
   "metadata": {
    "collapsed": true
   },
   "outputs": [],
   "source": [
    "#moja metrika za r2 skor, ako bude potrebno u toku odbrane da se koristi\n",
    "\n",
    "def r2_score_dusan(y_pred, y_orig):\n",
    "    y_mean = y_orig.mean()\n",
    "    SST = np.sum(np.square(y_orig - y_mean))\n",
    "    SSR = np.sum(np.square(y_pred - y_mean))\n",
    "    print(y_pred.shape)\n",
    "    print(y_orig.shape)\n",
    "    SSE = np.sum(np.square(y_pred - y_orig))\n",
    "    \n",
    "    \n",
    "    return 1.0 - SSE/SST"
   ]
  },
  {
   "cell_type": "markdown",
   "metadata": {},
   "source": [
    "### Iscitavanje podataka iz .csv datoteke u kojoj se nalaze podaci.\n"
   ]
  },
  {
   "cell_type": "code",
   "execution_count": 5,
   "metadata": {
    "collapsed": true
   },
   "outputs": [],
   "source": [
    "db_train = pd.read_csv('train.csv')\n",
    "#os.listdir() # za listanje svih fajlova u datoteci"
   ]
  },
  {
   "cell_type": "markdown",
   "metadata": {},
   "source": [
    "## Kao sto vidimo, ima 81 obelezje i 1460 uzoraka\n",
    "## Takodje, prikazujemo i strukturu prvih 5 primera, ali s obzirom da ih ima previse moramo drugaciji postupak da vrsimo"
   ]
  },
  {
   "cell_type": "code",
   "execution_count": 6,
   "metadata": {},
   "outputs": [
    {
     "name": "stdout",
     "output_type": "stream",
     "text": [
      "   Id  MSSubClass MSZoning  LotFrontage  LotArea Street Alley LotShape  \\\n",
      "0   1          60       RL         65.0     8450   Pave   NaN      Reg   \n",
      "1   2          20       RL         80.0     9600   Pave   NaN      Reg   \n",
      "2   3          60       RL         68.0    11250   Pave   NaN      IR1   \n",
      "3   4          70       RL         60.0     9550   Pave   NaN      IR1   \n",
      "4   5          60       RL         84.0    14260   Pave   NaN      IR1   \n",
      "\n",
      "  LandContour Utilities    ...     PoolArea PoolQC Fence MiscFeature MiscVal  \\\n",
      "0         Lvl    AllPub    ...            0    NaN   NaN         NaN       0   \n",
      "1         Lvl    AllPub    ...            0    NaN   NaN         NaN       0   \n",
      "2         Lvl    AllPub    ...            0    NaN   NaN         NaN       0   \n",
      "3         Lvl    AllPub    ...            0    NaN   NaN         NaN       0   \n",
      "4         Lvl    AllPub    ...            0    NaN   NaN         NaN       0   \n",
      "\n",
      "  MoSold YrSold  SaleType  SaleCondition  SalePrice  \n",
      "0      2   2008        WD         Normal     208500  \n",
      "1      5   2007        WD         Normal     181500  \n",
      "2      9   2008        WD         Normal     223500  \n",
      "3      2   2006        WD        Abnorml     140000  \n",
      "4     12   2008        WD         Normal     250000  \n",
      "\n",
      "[5 rows x 81 columns]\n",
      "(1460, 81)\n"
     ]
    }
   ],
   "source": [
    "print(db_train.head())\n",
    "print(db_train.shape)"
   ]
  },
  {
   "cell_type": "markdown",
   "metadata": {},
   "source": [
    "## Ovo su obelezja koja se nalaze u nasem skupu vezanom za Housing"
   ]
  },
  {
   "cell_type": "markdown",
   "metadata": {},
   "source": [
    "### Na osnovu obelezja ciji se tacan opis moze naci i u 'data_description.txt' , pretpostavio bih da ce postojati visoka korelacija izmedju obelezja koja se ticu medjusobne kvadrature spratova, i kvaliteta tih spratova. Rucno necu obavljati posao odabira obelezja, ostavicu matematickim alatima"
   ]
  },
  {
   "cell_type": "code",
   "execution_count": 7,
   "metadata": {},
   "outputs": [
    {
     "data": {
      "text/plain": [
       "Index([u'Id', u'MSSubClass', u'MSZoning', u'LotFrontage', u'LotArea',\n",
       "       u'Street', u'Alley', u'LotShape', u'LandContour', u'Utilities',\n",
       "       u'LotConfig', u'LandSlope', u'Neighborhood', u'Condition1',\n",
       "       u'Condition2', u'BldgType', u'HouseStyle', u'OverallQual',\n",
       "       u'OverallCond', u'YearBuilt', u'YearRemodAdd', u'RoofStyle',\n",
       "       u'RoofMatl', u'Exterior1st', u'Exterior2nd', u'MasVnrType',\n",
       "       u'MasVnrArea', u'ExterQual', u'ExterCond', u'Foundation', u'BsmtQual',\n",
       "       u'BsmtCond', u'BsmtExposure', u'BsmtFinType1', u'BsmtFinSF1',\n",
       "       u'BsmtFinType2', u'BsmtFinSF2', u'BsmtUnfSF', u'TotalBsmtSF',\n",
       "       u'Heating', u'HeatingQC', u'CentralAir', u'Electrical', u'1stFlrSF',\n",
       "       u'2ndFlrSF', u'LowQualFinSF', u'GrLivArea', u'BsmtFullBath',\n",
       "       u'BsmtHalfBath', u'FullBath', u'HalfBath', u'BedroomAbvGr',\n",
       "       u'KitchenAbvGr', u'KitchenQual', u'TotRmsAbvGrd', u'Functional',\n",
       "       u'Fireplaces', u'FireplaceQu', u'GarageType', u'GarageYrBlt',\n",
       "       u'GarageFinish', u'GarageCars', u'GarageArea', u'GarageQual',\n",
       "       u'GarageCond', u'PavedDrive', u'WoodDeckSF', u'OpenPorchSF',\n",
       "       u'EnclosedPorch', u'3SsnPorch', u'ScreenPorch', u'PoolArea', u'PoolQC',\n",
       "       u'Fence', u'MiscFeature', u'MiscVal', u'MoSold', u'YrSold', u'SaleType',\n",
       "       u'SaleCondition', u'SalePrice'],\n",
       "      dtype='object')"
      ]
     },
     "execution_count": 7,
     "metadata": {},
     "output_type": "execute_result"
    }
   ],
   "source": [
    "db_train.columns"
   ]
  },
  {
   "cell_type": "markdown",
   "metadata": {},
   "source": [
    "## Pojedini tipovi nisu numericki, te se sa njima u tom obliku ne mogu vrsiti bilo kakve matematicke funkcije, vec su potrebne transformacije\n"
   ]
  },
  {
   "cell_type": "code",
   "execution_count": 8,
   "metadata": {},
   "outputs": [
    {
     "name": "stdout",
     "output_type": "stream",
     "text": [
      "int64\n",
      "int64\n",
      "object\n",
      "float64\n",
      "int64\n",
      "object\n",
      "object\n",
      "object\n",
      "object\n",
      "object\n",
      "object\n",
      "object\n",
      "object\n",
      "object\n",
      "object\n",
      "object\n",
      "object\n",
      "int64\n",
      "int64\n",
      "int64\n",
      "int64\n",
      "object\n",
      "object\n",
      "object\n",
      "object\n",
      "object\n",
      "float64\n",
      "object\n",
      "object\n",
      "object\n",
      "object\n",
      "object\n",
      "object\n",
      "object\n",
      "int64\n",
      "object\n",
      "int64\n",
      "int64\n",
      "int64\n",
      "object\n",
      "object\n",
      "object\n",
      "object\n",
      "int64\n",
      "int64\n",
      "int64\n",
      "int64\n",
      "int64\n",
      "int64\n",
      "int64\n",
      "int64\n",
      "int64\n",
      "int64\n",
      "object\n",
      "int64\n",
      "object\n",
      "int64\n",
      "object\n",
      "object\n",
      "float64\n",
      "object\n",
      "int64\n",
      "int64\n",
      "object\n",
      "object\n",
      "object\n",
      "int64\n",
      "int64\n",
      "int64\n",
      "int64\n",
      "int64\n",
      "int64\n",
      "object\n",
      "object\n",
      "object\n",
      "int64\n",
      "int64\n",
      "int64\n",
      "object\n",
      "object\n",
      "int64\n"
     ]
    }
   ],
   "source": [
    "for column in db_train.columns:\n",
    "    print(db_train[column].dtype)"
   ]
  },
  {
   "cell_type": "markdown",
   "metadata": {},
   "source": [
    "## Uklanjanje Id-a, jer nam je nepotreban za dalje resavanje\n",
    "## Kao sto vidimo sa 81 smo pali na 80"
   ]
  },
  {
   "cell_type": "code",
   "execution_count": 9,
   "metadata": {},
   "outputs": [
    {
     "name": "stdout",
     "output_type": "stream",
     "text": [
      "Index([u'MSSubClass', u'MSZoning', u'LotFrontage', u'LotArea', u'Street',\n",
      "       u'Alley', u'LotShape', u'LandContour', u'Utilities', u'LotConfig',\n",
      "       u'LandSlope', u'Neighborhood', u'Condition1', u'Condition2',\n",
      "       u'BldgType', u'HouseStyle', u'OverallQual', u'OverallCond',\n",
      "       u'YearBuilt', u'YearRemodAdd', u'RoofStyle', u'RoofMatl',\n",
      "       u'Exterior1st', u'Exterior2nd', u'MasVnrType', u'MasVnrArea',\n",
      "       u'ExterQual', u'ExterCond', u'Foundation', u'BsmtQual', u'BsmtCond',\n",
      "       u'BsmtExposure', u'BsmtFinType1', u'BsmtFinSF1', u'BsmtFinType2',\n",
      "       u'BsmtFinSF2', u'BsmtUnfSF', u'TotalBsmtSF', u'Heating', u'HeatingQC',\n",
      "       u'CentralAir', u'Electrical', u'1stFlrSF', u'2ndFlrSF', u'LowQualFinSF',\n",
      "       u'GrLivArea', u'BsmtFullBath', u'BsmtHalfBath', u'FullBath',\n",
      "       u'HalfBath', u'BedroomAbvGr', u'KitchenAbvGr', u'KitchenQual',\n",
      "       u'TotRmsAbvGrd', u'Functional', u'Fireplaces', u'FireplaceQu',\n",
      "       u'GarageType', u'GarageYrBlt', u'GarageFinish', u'GarageCars',\n",
      "       u'GarageArea', u'GarageQual', u'GarageCond', u'PavedDrive',\n",
      "       u'WoodDeckSF', u'OpenPorchSF', u'EnclosedPorch', u'3SsnPorch',\n",
      "       u'ScreenPorch', u'PoolArea', u'PoolQC', u'Fence', u'MiscFeature',\n",
      "       u'MiscVal', u'MoSold', u'YrSold', u'SaleType', u'SaleCondition',\n",
      "       u'SalePrice'],\n",
      "      dtype='object')\n",
      "(1460, 80)\n"
     ]
    }
   ],
   "source": [
    "db_train = db_train.drop('Id', axis = 1)\n",
    "\n",
    "print(db_train.columns)\n",
    "print(db_train.shape)"
   ]
  },
  {
   "cell_type": "markdown",
   "metadata": {},
   "source": [
    "### Uklanjanje kolona tamo gde ih ima vise od 70% sa NaN vrednoscu"
   ]
  },
  {
   "cell_type": "code",
   "execution_count": 10,
   "metadata": {},
   "outputs": [
    {
     "name": "stdout",
     "output_type": "stream",
     "text": [
      "()\n",
      "Obelezja koja nedostaju su: \n",
      "['Alley', 'FireplaceQu', 'PoolQC', 'Fence', 'MiscFeature']\n"
     ]
    }
   ],
   "source": [
    "# #print(db_train.isna().sum()/db_train.size)\n",
    "\n",
    "def print_diff(db_train, db_old):\n",
    "    temp = [item for item in db_old if item not in db_train]\n",
    "    print()\n",
    "    print('Obelezja koja nedostaju su: ')\n",
    "    print(temp)\n",
    "    \n",
    "db_old = copy.deepcopy(db_train)\n",
    "db_train = db_train.dropna(axis = 1, thresh = 0.7*db_train.shape[0])\n",
    "\n",
    "print_diff(db_train,db_old)"
   ]
  },
  {
   "cell_type": "markdown",
   "metadata": {},
   "source": [
    "### Kao sto se vidi uklonjeni su obelezja:\n",
    "    Alley: koje oznacava nacin pristupa kuci\n",
    "    FireplacesQu: kvalitet kamina \n",
    "    PoolQC: kvalitet bazena\n",
    "    Fence: kvalitet ograde\n",
    "    MiscFeature: ostale karakteristike koje nisu navedene u obelezjima (to je neko bezvezno samostalno obelezje)"
   ]
  },
  {
   "cell_type": "markdown",
   "metadata": {},
   "source": [
    "### Sto znaci da ocigledno za veliki broj nekretnina ni ne postoji informacija o njima ili su izostavljene kao nepostojece u katastru."
   ]
  },
  {
   "cell_type": "markdown",
   "metadata": {},
   "source": [
    "### Sredjivanje null podataka, na non-numeric kolone menjamo najfrekventnijim vrednostima obelezja, a numeric menjamo medijanom podataka kolone"
   ]
  },
  {
   "cell_type": "code",
   "execution_count": 11,
   "metadata": {},
   "outputs": [
    {
     "name": "stdout",
     "output_type": "stream",
     "text": [
      "Da li je ostalo bilo kakvih nepoznatih/null vrednosti? \n",
      "False\n"
     ]
    }
   ],
   "source": [
    "#za proveru da li je tip kolone numeric ili nije\n",
    "# for column in db_train.columns:\n",
    "#     print(str(type(db_train[column][0])) + str(isinstance(db_train[column][0], \\\n",
    "#     numbers.Number)))\n",
    "    \n",
    "\n",
    "for column in db_train.columns:\n",
    "    if db_train[column].dtype not in [np.object, np.str]:\n",
    "        #print(str(type(db_train[column][0])) + \" \" + column)\n",
    "        db_train[column] = db_train[column].fillna(db_train[column].median())\n",
    "    else:\n",
    "        db_train[column] = db_train[column].fillna(db_train[column].mode()[0])\n",
    "\n",
    "#provera da li je ostalo NaN vrednosti\n",
    "print(\"Da li je ostalo bilo kakvih nepoznatih/null vrednosti? \")\n",
    "print(db_train.isna().any().any())"
   ]
  },
  {
   "cell_type": "markdown",
   "metadata": {},
   "source": [
    "#### *Poslednja provera sluzi da se vidi da li sam dobro izvrsio funkciju ispunjavanja nepoznatih\n",
    "### U zaglavlju uzorka se vidi da nema vise nepoznatih obelezja, mada vecu vaznost ima ispit funkcije trazenja NaN-a u prethodnoj celiji"
   ]
  },
  {
   "cell_type": "code",
   "execution_count": 12,
   "metadata": {},
   "outputs": [
    {
     "name": "stdout",
     "output_type": "stream",
     "text": [
      "   MSSubClass MSZoning  LotFrontage  LotArea Street LotShape LandContour  \\\n",
      "0          60       RL         65.0     8450   Pave      Reg         Lvl   \n",
      "1          20       RL         80.0     9600   Pave      Reg         Lvl   \n",
      "2          60       RL         68.0    11250   Pave      IR1         Lvl   \n",
      "3          70       RL         60.0     9550   Pave      IR1         Lvl   \n",
      "4          60       RL         84.0    14260   Pave      IR1         Lvl   \n",
      "\n",
      "  Utilities LotConfig LandSlope    ...    EnclosedPorch 3SsnPorch ScreenPorch  \\\n",
      "0    AllPub    Inside       Gtl    ...                0         0           0   \n",
      "1    AllPub       FR2       Gtl    ...                0         0           0   \n",
      "2    AllPub    Inside       Gtl    ...                0         0           0   \n",
      "3    AllPub    Corner       Gtl    ...              272         0           0   \n",
      "4    AllPub       FR2       Gtl    ...                0         0           0   \n",
      "\n",
      "  PoolArea MiscVal  MoSold  YrSold  SaleType  SaleCondition SalePrice  \n",
      "0        0       0       2    2008        WD         Normal    208500  \n",
      "1        0       0       5    2007        WD         Normal    181500  \n",
      "2        0       0       9    2008        WD         Normal    223500  \n",
      "3        0       0       2    2006        WD        Abnorml    140000  \n",
      "4        0       0      12    2008        WD         Normal    250000  \n",
      "\n",
      "[5 rows x 75 columns]\n"
     ]
    }
   ],
   "source": [
    "#trenutno stanje \n",
    "print(db_train.head())"
   ]
  },
  {
   "cell_type": "markdown",
   "metadata": {},
   "source": [
    "## Numerizacija podataka, tj pretvaranje 'string' vrednosti u kvantitativna obelezja"
   ]
  },
  {
   "cell_type": "markdown",
   "metadata": {},
   "source": [
    "### Posto se bavimo samo predikcijom algoritma, umesto koriscenja nekih naprednih metoda transformacije podataka, koristicemo se label encoding-om iz scikit biblioteke, koja pretvara podatke iz string/object oblika u numericki oblik. Npr. ako obelezje ima domen od 5 non-numeric vrednosti, dodeljivace mu se vrednosti iz skupa {0,1,2,3,4}"
   ]
  },
  {
   "cell_type": "markdown",
   "metadata": {},
   "source": [
    "#### Primer primene nad jednim obelezjem"
   ]
  },
  {
   "cell_type": "code",
   "execution_count": 13,
   "metadata": {},
   "outputs": [
    {
     "data": {
      "text/plain": [
       "0    RL\n",
       "1    RL\n",
       "2    RL\n",
       "3    RL\n",
       "4    RL\n",
       "Name: MSZoning, dtype: object"
      ]
     },
     "execution_count": 13,
     "metadata": {},
     "output_type": "execute_result"
    }
   ],
   "source": [
    "#Primer na jednoj object/string koloni, recimo 'MSZoning', sa zonskom\n",
    "#klasifikacijom nekretnine\n",
    "# for column in db_train.columns:\n",
    "#     if db_train[column].dtype == 'object':\n",
    "#         print(db_train[column])\n",
    "\n",
    "db_train['MSZoning'].head()"
   ]
  },
  {
   "cell_type": "code",
   "execution_count": 14,
   "metadata": {},
   "outputs": [
    {
     "data": {
      "text/plain": [
       "0    3\n",
       "1    3\n",
       "2    3\n",
       "3    3\n",
       "4    3\n",
       "Name: MSZoning, dtype: int64"
      ]
     },
     "execution_count": 14,
     "metadata": {},
     "output_type": "execute_result"
    }
   ],
   "source": [
    "#koristimo label encoder\n",
    "lb_make = LabelEncoder()\n",
    "db_train['MSZoning'] = lb_make.fit_transform(db_train['MSZoning'])\n",
    "\n",
    "db_train['MSZoning'].head()"
   ]
  },
  {
   "cell_type": "markdown",
   "metadata": {},
   "source": [
    "#### Primena label encoding-a na ostalim obelezjima"
   ]
  },
  {
   "cell_type": "code",
   "execution_count": 15,
   "metadata": {},
   "outputs": [
    {
     "name": "stdout",
     "output_type": "stream",
     "text": [
      "int64\n",
      "0    1\n",
      "1    1\n",
      "2    1\n",
      "3    1\n",
      "4    1\n",
      "Name: Street, dtype: int64\n"
     ]
    }
   ],
   "source": [
    "#Primena na svim ostalim non-numeric kolonama\n",
    "for column in db_train.columns:\n",
    "    if db_train[column].dtype in ('object', 'str'):\n",
    "       db_train[column] = lb_make.fit_transform(db_train[column])\n",
    "        \n",
    "print(db_train['Street'].dtype)\n",
    "print(db_train['Street'].head())"
   ]
  },
  {
   "cell_type": "markdown",
   "metadata": {},
   "source": [
    "### Pre regresije, standardizovacemo obelezja na pretpostavljene vrednost 0 i standardnu devijaciju 1, kako se ne bi desilo da pojedina obelezja imaju prednost u odnosu na ostala, vrsicemo standardizaciju tj.:\n",
    "### (x - srednja_vrednost(x))/standardna_devijacija(x)\n",
    "\n",
    "### Sledi predstavljanje normalizovanih obelezja"
   ]
  },
  {
   "cell_type": "code",
   "execution_count": 16,
   "metadata": {},
   "outputs": [
    {
     "name": "stdout",
     "output_type": "stream",
     "text": [
      "   MSSubClass  MSZoning  LotFrontage   LotArea    Street  LotShape  \\\n",
      "0    0.073350 -0.045516    -0.220799 -0.207071  0.064216  0.750473   \n",
      "1   -0.872264 -0.045516     0.460162 -0.091855  0.064216  0.750473   \n",
      "2    0.073350 -0.045516    -0.084607  0.073455  0.064216 -1.378460   \n",
      "3    0.309753 -0.045516    -0.447787 -0.096864  0.064216 -1.378460   \n",
      "4    0.073350 -0.045516     0.641752  0.375020  0.064216 -1.378460   \n",
      "\n",
      "   LandContour  Utilities  LotConfig  LandSlope    ...      EnclosedPorch  \\\n",
      "0     0.314559  -0.026171   0.604463  -0.225639    ...          -0.359202   \n",
      "1     0.314559  -0.026171  -0.628101  -0.225639    ...          -0.359202   \n",
      "2     0.314559  -0.026171   0.604463  -0.225639    ...          -0.359202   \n",
      "3     0.314559  -0.026171  -1.860664  -0.225639    ...           4.091122   \n",
      "4     0.314559  -0.026171  -0.628101  -0.225639    ...          -0.359202   \n",
      "\n",
      "   3SsnPorch  ScreenPorch  PoolArea   MiscVal    MoSold    YrSold  SaleType  \\\n",
      "0  -0.116299    -0.270116 -0.068668 -0.087658 -1.598563  0.138730   0.31376   \n",
      "1  -0.116299    -0.270116 -0.068668 -0.087658 -0.488943 -0.614228   0.31376   \n",
      "2  -0.116299    -0.270116 -0.068668 -0.087658  0.990552  0.138730   0.31376   \n",
      "3  -0.116299    -0.270116 -0.068668 -0.087658 -1.598563 -1.367186   0.31376   \n",
      "4  -0.116299    -0.270116 -0.068668 -0.087658  2.100173  0.138730   0.31376   \n",
      "\n",
      "   SaleCondition  SalePrice  \n",
      "0       0.208431     208500  \n",
      "1       0.208431     181500  \n",
      "2       0.208431     223500  \n",
      "3      -3.425110     140000  \n",
      "4       0.208431     250000  \n",
      "\n",
      "[5 rows x 75 columns]\n"
     ]
    }
   ],
   "source": [
    "#stand_corr_db_train = (corr_db_train - corr_db_train.mean()) / corr_db_train.std()\n",
    "proba = db_train.drop(columns = ['SalePrice'])\n",
    "proba_y = db_train['SalePrice']\n",
    "#proba = proba[['MSSubClass', 'MSZoning']] <- samo za proveru korisceno\n",
    "#proba.columns\n",
    "#print(proba[['MSSubClass','MSZoning']])\n",
    "\n",
    "#proba = (proba - proba.mean())/proba.std()\n",
    "#proba.head()\n",
    "proba = (proba - proba.mean())/proba.std()\n",
    "\n",
    "\n",
    "db_train = pd.concat([proba, proba_y], axis = 1)\n",
    "\n",
    "print(db_train.head())\n",
    "\n"
   ]
  },
  {
   "cell_type": "markdown",
   "metadata": {},
   "source": [
    "## Krecemo sa uklanjanjem nepotrebnih obelezja, vrsimo uklanjanje:\n",
    "\n",
    "    1)Korelacionom matricom sklanjamo one koji imaju aps korelaciju >=0.6\n",
    "\n",
    "    2)PCA uklanjanjem/pravljenjem novih obelezja"
   ]
  },
  {
   "cell_type": "markdown",
   "metadata": {},
   "source": [
    "### 1)Korelacionom matricom sklanjamo one koji imaju aps korelaciju >=0.6 , koristi se Pearson korelaciona matrica"
   ]
  },
  {
   "cell_type": "code",
   "execution_count": 17,
   "metadata": {},
   "outputs": [
    {
     "name": "stdout",
     "output_type": "stream",
     "text": [
      "Matrica koreliranja za sva obelezja\n"
     ]
    },
    {
     "data": {
      "image/png": "[encoded data removed]",
      "text/plain": [
       "<matplotlib.figure.Figure at 0x7fe0b439cc10>"
      ]
     },
     "metadata": {},
     "output_type": "display_data"
    },
    {
     "name": "stdout",
     "output_type": "stream",
     "text": [
      "Kolone BldgType i MSSubClass su korelirane\n",
      "Brise se kolona BldgType\n",
      "Kolone Exterior2nd i Exterior1st su korelirane\n",
      "Brise se kolona Exterior2nd\n",
      "Kolone ExterQual i OverallQual su korelirane\n",
      "Brise se kolona ExterQual\n",
      "Kolone Foundation i YearBuilt su korelirane\n",
      "Brise se kolona Foundation\n",
      "Kolone BsmtQual i OverallQual su korelirane\n",
      "Brise se kolona BsmtQual\n",
      "Kolone BsmtFinSF2 i BsmtFinType2 su korelirane\n",
      "Brise se kolona BsmtFinSF2\n",
      "Kolone 1stFlrSF i TotalBsmtSF su korelirane\n",
      "Brise se kolona 1stFlrSF\n",
      "Kolone GrLivArea i 2ndFlrSF su korelirane\n",
      "Brise se kolona GrLivArea\n",
      "Kolone BsmtFullBath i BsmtFinSF1 su korelirane\n",
      "Brise se kolona BsmtFullBath\n",
      "Kolone FullBath i GrLivArea su korelirane\n",
      "Brise se kolona FullBath\n",
      "Kolone HalfBath i 2ndFlrSF su korelirane\n",
      "Brise se kolona HalfBath\n",
      "Kolone KitchenQual i ExterQual su korelirane\n",
      "Brise se kolona KitchenQual\n",
      "Kolone TotRmsAbvGrd i 2ndFlrSF su korelirane\n",
      "Brise se kolona TotRmsAbvGrd\n",
      "Kolone TotRmsAbvGrd i GrLivArea su korelirane\n",
      "Brise se kolona TotRmsAbvGrd\n",
      "Kolone TotRmsAbvGrd i BedroomAbvGr su korelirane\n",
      "Brise se kolona TotRmsAbvGrd\n",
      "Kolone GarageYrBlt i YearBuilt su korelirane\n",
      "Brise se kolona GarageYrBlt\n",
      "Kolone GarageYrBlt i YearRemodAdd su korelirane\n",
      "Brise se kolona GarageYrBlt\n",
      "Kolone GarageCars i OverallQual su korelirane\n",
      "Brise se kolona GarageCars\n",
      "Kolone GarageArea i GarageCars su korelirane\n",
      "Brise se kolona GarageArea\n",
      "\n",
      "\n",
      "\n",
      "()\n",
      "Obelezja koja nedostaju su: \n",
      "['BldgType', 'Exterior2nd', 'ExterQual', 'Foundation', 'BsmtQual', 'BsmtFinSF2', '1stFlrSF', 'GrLivArea', 'BsmtFullBath', 'FullBath', 'HalfBath', 'KitchenQual', 'TotRmsAbvGrd', 'GarageYrBlt', 'GarageCars', 'GarageArea']\n"
     ]
    }
   ],
   "source": [
    "def trazi_korelirane(dataset):\n",
    "    korelaciona_matrica  = dataset.corr()\n",
    "    n = korelaciona_matrica.shape[0]\n",
    "    skup_kolona_brisanje = set()\n",
    "    \n",
    "    #stari sastav obelezja\n",
    "    print('Matrica koreliranja za sva obelezja')\n",
    "    plt.imshow(korelaciona_matrica, cmap = 'hot', interpolation='nearest')\n",
    "    plt.show()\n",
    "    \n",
    "    for i in range(n):\n",
    "        for j in range(i):\n",
    "            if abs(korelaciona_matrica.iloc[i][j]) >= 0.6 \\\n",
    "                    and korelaciona_matrica.iloc[i][j] != 1.0:\n",
    "                ime_kolone = korelaciona_matrica.columns[i]\n",
    "                print('Kolone ' + str(dataset.columns[i]) + ' i ' + str(dataset.columns[j]) +' su korelirane')\n",
    "                print('Brise se kolona ' + str(dataset.columns[i]))\n",
    "                #sluzi samo za proveru da li se uopste nalazi \n",
    "                if ime_kolone in db_train.columns:\n",
    "                    skup_kolona_brisanje.add(ime_kolone)\n",
    "                    \n",
    "    print(\"\\n\\n\")\n",
    "    return skup_kolona_brisanje\n",
    "                \n",
    "# korelaciona_matrica.drop(columns = skup_kolona_brisanje)\n",
    "# print(skup_kolona_brisanje)\n",
    "# korelaciona_matrica.drop(columns = skup_kolona_brisanje, inplace= True)\n",
    "# korelaciona_matrica.shape\n",
    "\n",
    "corr_db_train = db_train\n",
    "Y_corr = corr_db_train['SalePrice']\n",
    "corr_db_train = corr_db_train.drop(columns = ['SalePrice'])\n",
    "#kolone koje treba obrisati\n",
    "kolone_za_brisanje = trazi_korelirane(corr_db_train)\n",
    "\n",
    "#odbacivanje tih kolona\n",
    "db_old = copy.deepcopy(corr_db_train)\n",
    "corr_db_train = corr_db_train.drop(columns = kolone_za_brisanje)\n",
    "print_diff(corr_db_train, db_old)\n",
    "\n"
   ]
  },
  {
   "cell_type": "markdown",
   "metadata": {},
   "source": [
    "## Obelezja koja su obrisana matricom korelacije* su: \n",
    "\n",
    "    1.BldgType(tip nekretnine sa manje specifikacija) na osnovu koreliranosti sa MSSubClass(tip nekretnine sa vise specifikacija)\n",
    "    2.Exterior2nd(drugi sloj obloge krova) na osnovu koreliranosti sa Exterior1st(prvi sloj obloge krova)\n",
    "    3.ExterQual(kvalitet eksterijera) na osnovu koreliranosti sa OverallQual(sveukupni kvalitet)\n",
    "    4.Foundation(tip osnove tla) na osnovu koreliranosti sa YearBuilt(godinom izgradnje)\n",
    "    5.BsmtQual(Kvalitet podruma na osnovu visine podruma) na osnovu koreliranosti sa OverallQual(sveukupnim kvalitetom kuce)\n",
    "    6.BsmtFinSF2(Povrsina drugog podruma u kvadratnim metrima) na osnovu koreliranosti sa BsmtFinType2(kvalitet drugog podruma u kvadratnim metrima)\n",
    "    7.1stFlrSF(Kvadratura prvog sprata) na osnovu koreliranosti sa TotalBsmtSF(Kvadratura podruma)\n",
    "    8.GrLivArea(nadzemna povrsina zivotnog prostora) na osnovu koreliranosti sa 2ndFlrSF(povrsina drugog sprata)\n",
    "    9.**BsmtFullBath(da li ima kupatila u podrumu) na osnovu koreliranosti sa BsmtFinSF1(prvi tip podruma u kvadratima)\n",
    "    10.**FullBath(da li ima velika kupatila) na osnovu koreliranosti sa GrLivArea(nadzemna povrsina zivotnog prostora)\n",
    "    11.**HalfBath(da li ima srednjih kupatila) na osnovu koreliranosti sa 2ndFlrSF(povrsine drugog sprata)\n",
    "    12.**KitchenQual(kvalitet kuhinje) na osnovu koreliranosti sa ExterQual(kvalitet materijala spolja)\n",
    "    13.TotRmsAbvGrd(broj soba bez kupatila) na osnovu koreliranosti sa BedroomAbvGr(Broj nadzemnih spavacih soba)\n",
    "    14.GarageYrBlt(godina izgradnje garaze) na osnovu koreliranosti sa YearBuilt(godinom izgradnje kuce)\n",
    "    15.GarageYrBlt(godina izgradnje garaze) na osnovu koreliranosti sa YearRemodAdd(godina renoviranja, ista kao i izgradnje ako nikad renovirano)\n",
    "    16.GarageCars(Broj mesta u garazi) na osnovu koreliranosti sa OverallQual(kvalitet kuce)\n",
    "    17.GarageArea(kvadratura garaze) na osnovu koreliranosti sa GarageCars(Broj mesta u garazi)\n",
    "    \n",
    "    *termin povrsina i kvadratura ekvivalentno upotrebljavam\n",
    "    **Obelezene korelacije su korelacije koje nisu ocigledne (subjektivna procena mene kao istrazivaca ovog dataseta)\n",
    "    "
   ]
  },
  {
   "cell_type": "markdown",
   "metadata": {},
   "source": [
    "### Cilj korelacionih matrica je bio da se automatizuje proces odbacivanja resenja, a ne da se primeni rucni odabir obelezja. Zakljucio sam da postoji mali broj nelogicnih veza medju obelezjima, te sam mogao da dodatno smanjim dimenzionalnost problema. S obzirom na posledice za krajnji rezultat regresija, to nisam ucinio."
   ]
  },
  {
   "cell_type": "markdown",
   "metadata": {},
   "source": [
    "### Predstavljamo i novi oblik sa odbacenim obelezjima"
   ]
  },
  {
   "cell_type": "code",
   "execution_count": 18,
   "metadata": {},
   "outputs": [
    {
     "name": "stdout",
     "output_type": "stream",
     "text": [
      "Novi oblik sa smanjenim brojem obelezja: (1460, 58)\n"
     ]
    },
    {
     "data": {
      "image/png": "[encoded data removed]",
      "text/plain": [
       "<matplotlib.figure.Figure at 0x7fe0b4032dd0>"
      ]
     },
     "metadata": {},
     "output_type": "display_data"
    },
    {
     "name": "stdout",
     "output_type": "stream",
     "text": [
      "   MSSubClass  MSZoning  LotFrontage   LotArea    Street  LotShape  \\\n",
      "0    0.073350 -0.045516    -0.220799 -0.207071  0.064216  0.750473   \n",
      "1   -0.872264 -0.045516     0.460162 -0.091855  0.064216  0.750473   \n",
      "2    0.073350 -0.045516    -0.084607  0.073455  0.064216 -1.378460   \n",
      "3    0.309753 -0.045516    -0.447787 -0.096864  0.064216 -1.378460   \n",
      "4    0.073350 -0.045516     0.641752  0.375020  0.064216 -1.378460   \n",
      "\n",
      "   LandContour  Utilities  LotConfig  LandSlope      ...        OpenPorchSF  \\\n",
      "0     0.314559  -0.026171   0.604463  -0.225639      ...           0.216429   \n",
      "1     0.314559  -0.026171  -0.628101  -0.225639      ...          -0.704242   \n",
      "2     0.314559  -0.026171   0.604463  -0.225639      ...          -0.070337   \n",
      "3     0.314559  -0.026171  -1.860664  -0.225639      ...          -0.175988   \n",
      "4     0.314559  -0.026171  -0.628101  -0.225639      ...           0.563567   \n",
      "\n",
      "   EnclosedPorch  3SsnPorch  ScreenPorch  PoolArea   MiscVal    MoSold  \\\n",
      "0      -0.359202  -0.116299    -0.270116 -0.068668 -0.087658 -1.598563   \n",
      "1      -0.359202  -0.116299    -0.270116 -0.068668 -0.087658 -0.488943   \n",
      "2      -0.359202  -0.116299    -0.270116 -0.068668 -0.087658  0.990552   \n",
      "3       4.091122  -0.116299    -0.270116 -0.068668 -0.087658 -1.598563   \n",
      "4      -0.359202  -0.116299    -0.270116 -0.068668 -0.087658  2.100173   \n",
      "\n",
      "     YrSold  SaleType  SaleCondition  \n",
      "0  0.138730   0.31376       0.208431  \n",
      "1 -0.614228   0.31376       0.208431  \n",
      "2  0.138730   0.31376       0.208431  \n",
      "3 -1.367186   0.31376      -3.425110  \n",
      "4  0.138730   0.31376       0.208431  \n",
      "\n",
      "[5 rows x 58 columns]\n"
     ]
    }
   ],
   "source": [
    "print('Novi oblik sa smanjenim brojem obelezja: ' + str(corr_db_train.shape))\n",
    "\n",
    "plt.imshow(corr_db_train.corr(), cmap = 'hot', interpolation='nearest')\n",
    "plt.show()\n",
    "\n",
    "print(corr_db_train.head())"
   ]
  },
  {
   "cell_type": "markdown",
   "metadata": {},
   "source": [
    "### 2)Primena sad za PCA, spustamo na 50 obelezja"
   ]
  },
  {
   "cell_type": "code",
   "execution_count": 19,
   "metadata": {
    "collapsed": true
   },
   "outputs": [],
   "source": [
    "#X podaci sa N obelezja\n",
    "#k- X podaci sa k novih obelezja\n",
    "def pca_redukcija(X, k):\n",
    "    m = X.shape[0]\n",
    "    n = X.shape[1]\n",
    "    \n",
    "    U = np.zeros(n)\n",
    "    S = np.zeros(n)\n",
    "    \n",
    "    \n",
    "    #koeficijent korelacije, trebace za singular value decomposition\n",
    "    Sigma = np.corrcoef(np.transpose(X))\n",
    "    #razlazemo na karakteristicne vektore korelacionu matricu\n",
    "    U,S,V = np.linalg.svd(Sigma)\n",
    "    \n",
    "    \n",
    "    Z = np.zeros((m,k))\n",
    "    \n",
    "    #uzimamo samo najbolje karakteristicne vektore, odnosno vektore koji najbolje\n",
    "    #objasnjavaju promene u obelezjima\n",
    "    Uredukovani = U[:,0:k]\n",
    "    \n",
    "    Z = np.dot(X, Uredukovani)\n",
    "    \n",
    "    return Z"
   ]
  },
  {
   "cell_type": "code",
   "execution_count": 20,
   "metadata": {},
   "outputs": [
    {
     "name": "stdout",
     "output_type": "stream",
     "text": [
      "Trenutni broj komponenti je 58, mi zelimo da sacuvamo samo 50\n",
      "Novi oblik sa smanjenim brojem obelezja (PCA): (1460, 50)\n",
      "Prikaz raznovrstosti za 10 obelezja\n"
     ]
    },
    {
     "data": {
      "image/png": "[encoded data removed]",
      "text/plain": [
       "<matplotlib.figure.Figure at 0x7fe0b1517790>"
      ]
     },
     "metadata": {},
     "output_type": "display_data"
    },
    {
     "name": "stdout",
     "output_type": "stream",
     "text": [
      "Prikaz raznovrstosti za 50 obelezja\n"
     ]
    },
    {
     "data": {
      "image/png": "[encoded data removed]",
      "text/plain": [
       "<matplotlib.figure.Figure at 0x7fe0b1578090>"
      ]
     },
     "metadata": {},
     "output_type": "display_data"
    }
   ],
   "source": [
    "pca_db_train = corr_db_train\n",
    "n = pca_db_train.shape[1]\n",
    "print('Trenutni broj komponenti je ' + str(n) + ', mi zelimo da sacuvamo samo 50')\n",
    "\n",
    "pca_db_train = pca_redukcija(corr_db_train, 50)\n",
    "\n",
    "print('Novi oblik sa smanjenim brojem obelezja (PCA): ' + str(pca_db_train.shape))\n",
    "print('Prikaz raznovrstosti za 10 obelezja');\n",
    "\n",
    "\n",
    "#pca_db_train.corrcoef()\n",
    "plt.imshow(np.corrcoef(pca_db_train[0:10]), cmap = 'hot', interpolation='nearest')\n",
    "plt.show()\n",
    "\n",
    "\n",
    "print('Prikaz raznovrstosti za 50 obelezja');\n",
    "\n",
    "plt.imshow(np.corrcoef(pca_db_train), cmap = 'hot', interpolation='nearest')\n",
    "plt.show()\n",
    "\n",
    "\n",
    "\n",
    "\n"
   ]
  },
  {
   "cell_type": "markdown",
   "metadata": {},
   "source": [
    "## S obzirom da PCA daje neka svoja, nova obelezja, koja nemaju semanticki smisao (blizak coveku), onda nema sta da ispisujem nazive obelezja koja su ostala/izbacena(jer vise ni ne postoje u tom obliku)."
   ]
  },
  {
   "cell_type": "markdown",
   "metadata": {},
   "source": [
    "#### Pretvaranje u pristojna imena promenljivih"
   ]
  },
  {
   "cell_type": "code",
   "execution_count": 21,
   "metadata": {},
   "outputs": [
    {
     "name": "stdout",
     "output_type": "stream",
     "text": [
      "(1460, 50)\n",
      "(1460,)\n"
     ]
    }
   ],
   "source": [
    "X = pca_db_train\n",
    "y = Y_corr\n",
    "\n",
    "print(X.shape)\n",
    "print(y.shape)"
   ]
  },
  {
   "cell_type": "markdown",
   "metadata": {},
   "source": [
    "### Primena bibliotecke regresije "
   ]
  },
  {
   "cell_type": "code",
   "execution_count": 25,
   "metadata": {},
   "outputs": [
    {
     "name": "stdout",
     "output_type": "stream",
     "text": [
      "Mean squared error: 2163097943.81\n",
      "Variance score: 0.68\n"
     ]
    }
   ],
   "source": [
    "from sklearn.model_selection import train_test_split\n",
    "from sklearn import datasets, linear_model\n",
    "from sklearn.metrics import mean_squared_error, r2_score\n",
    "\n",
    "X_train, X_other, y_train, y_other = train_test_split(X,y, test_size=0.4)\n",
    "\n",
    "regresija = linear_model.LinearRegression()\n",
    "regresija.fit(X_train, y_train)\n",
    "y_predvidjanje = regresija.predict(X_other)\n",
    "\n",
    "print(\"Mean squared error: %.2f\"\n",
    "      % mean_squared_error(y_other, y_predvidjanje))\n",
    "\n",
    "print('Variance score: %.2f' % r2_score(y_other, y_predvidjanje))"
   ]
  },
  {
   "cell_type": "markdown",
   "metadata": {},
   "source": [
    "### Vidimo da regresija za bibliotecku funkciju se dobro ponasa, nastavljam dalje, priprema za rucnu regularizacionu regresiju"
   ]
  },
  {
   "cell_type": "code",
   "execution_count": 26,
   "metadata": {
    "collapsed": true
   },
   "outputs": [],
   "source": [
    "def ridge_regresija(X, y, lam):\n",
    "    #x transpose x\n",
    "    X_temp = np.concatenate((np.ones((X.shape[0], 1)), X), axis=1)\n",
    "    w = np.dot(np.linalg.pinv((np.dot(np.transpose(X_temp), X_temp) + np.dot(np.identity(X_temp.shape[1]), lam))),\\\n",
    "            np.dot(np.transpose(X_temp), y))\n",
    "    return w\n",
    "\n",
    "\n",
    "def hipotetska_funkcija(X, w):\n",
    "    # dodajemo 1 na pocetak svakog primera, posto w ima jedan parametar vise\n",
    "    X_temp = np.concatenate((np.ones((X.shape[0], 1)), X), axis=1)\n",
    "    return np.dot(X_temp, w) \n",
    "\n",
    "def kriterijum_optimalnosti(N, X, w, y):\n",
    "    return (0.5/N)* np.sum(np.square(hipotetska_funkcija(X, w) - y))\n",
    "\n",
    "# alpha sluzi za procenu napredovanja regresije\n",
    "# lambda je regularizacioni parametar\n",
    "def ridge_regresija_gradijentna(X, y, lam, w, alpha, num_iter):\n",
    "\n",
    "    N = X.shape[0]  # broj primera koji se koriste\n",
    "    \n",
    "\n",
    "    for i in range(num_iter):\n",
    "        w[0] = w[0] - (1.0 / N) * alpha * np.sum(hipotetska_funkcija(X, w) - y)\n",
    "\n",
    "        w[1:] = w[1:] - (1.0 / N) * alpha * \\\n",
    "                        np.dot(np.transpose(X), (hipotetska_funkcija(X, w) - y)) - lam/N*w[1:]\n",
    "    \n",
    "    return w\n",
    "\n",
    "        \n",
    "\n",
    "\n",
    "#(w,n)= ridge_regresija_gradijentna(corr_X_train, corr_y_train, 0, 1000)\n",
    "#y_pred = np.dot(corr_X_test, w[1:])\n",
    "\n",
    "# print('Rezultat treniranja neregulisanog dela je: ')\n",
    "# print(r2_score(y_pred, corr_y_test))\n",
    "# print(n)"
   ]
  },
  {
   "cell_type": "markdown",
   "metadata": {},
   "source": [
    "## Istrazicemo da li je potrebno koristiti regularizacioni parametar za dalji rad"
   ]
  },
  {
   "cell_type": "markdown",
   "metadata": {},
   "source": [
    "### Probamo jedan metod trazenja lambde. Prvo istreniramo nad 60% uzorka sa regularizacionim parametrom, pa na 20% biramo najbolji, i ostalih 20% merimo gresku i r2 skor"
   ]
  },
  {
   "cell_type": "code",
   "execution_count": 27,
   "metadata": {},
   "outputs": [
    {
     "data": {
      "text/plain": [
       "<matplotlib.legend.Legend at 0x7fe08d743150>"
      ]
     },
     "execution_count": 27,
     "metadata": {},
     "output_type": "execute_result"
    },
    {
     "data": {
      "image/png": "[encoded data removed]",
      "text/plain": [
       "<matplotlib.figure.Figure at 0x7fe08dc67c90>"
      ]
     },
     "metadata": {},
     "output_type": "display_data"
    }
   ],
   "source": [
    "lam = np.arange(0,1, 0.05)\n",
    "#lam = np.random.uniform(0,1)\n",
    "r2_score_lam = np.empty([0,0])\n",
    "kriterijum_cv = np.empty([0,0])\n",
    "kriterijum_test = np.empty([0,0])\n",
    "kriterijum_train = np.empty([0,0])\n",
    "\n",
    "X_cv, X_test, y_cv, y_test = train_test_split(X_other, y_other, test_size=0.5)\n",
    "\n",
    "\n",
    "#pretvaranje u ndarray oblik matrice (n,1),inace je (n,)\n",
    "\n",
    "y_cv = y_cv.as_matrix()\n",
    "y_cv = np.reshape(y_cv,(y_cv.shape[0], 1))\n",
    "\n",
    "y_test = y_test.as_matrix()\n",
    "y_test = np.reshape(y_test,(y_test.shape[0], 1))\n",
    "\n",
    "y_train = y_train.as_matrix()\n",
    "y_train = np.reshape(y_train,(y_train.shape[0], 1))\n",
    "\n",
    "\n",
    "for lambda_uzorak in lam:\n",
    "    #za treniranje parametara, ovaj deo se ne dira\n",
    "    w_trening = np.random.rand(X_train.shape[1] + 1, 1)\n",
    "    #w_trening = np.zeros((X_train.shape[1] + 1, 1))\n",
    "    #istreniramo parametre\n",
    "    w_novi = ridge_regresija_gradijentna(X_train,y_train, lambda_uzorak, w_trening, 0.01,1000)\n",
    "    #w_novi = ridge_regresija(X_train, y_train, lambda_uzorak)\n",
    "    #validiramo na cv setu\n",
    "    y_predvidjanje = hipotetska_funkcija(X_cv, w_novi)\n",
    "    #print('Za lamdbu %.2f' % lambda_uzorak)\n",
    "    #print('\\tVariance score: %.2f' % r2_score(y_cv, y_predvidjanje))\n",
    "    \n",
    "    \n",
    "    #izracunamo cenu za kriterijume optimalnosti\n",
    "    kriterijum_train = np.append(kriterijum_train, kriterijum_optimalnosti(\\\n",
    "                                             X_train.shape[0],X_train, w_novi, y_train ))\n",
    "    kriterijum_cv = np.append(kriterijum_cv, kriterijum_optimalnosti(\\\n",
    "                                             X_cv.shape[0],X_cv, w_novi, y_cv))\n",
    "\n",
    "\n",
    "\n",
    "    \n",
    "plt.plot(lam, kriterijum_cv, 'b', label = 'CV greska')\n",
    "plt.plot(lam, kriterijum_train, 'r', label = 'Trening greska')\n",
    "plt.xlabel('lambda')\n",
    "plt.ylabel('kriterijum optimalnosti')\n",
    "plt.legend()\n",
    "\n",
    "\n",
    "\n",
    "\n",
    "\n"
   ]
  },
  {
   "cell_type": "markdown",
   "metadata": {},
   "source": [
    "### Zakljucujem da je najbolje koristiti regularizacioni parametar 0.95 za optimizaciju. Racunam koeficijent determinacije za lamba = 0.95"
   ]
  },
  {
   "cell_type": "code",
   "execution_count": 28,
   "metadata": {},
   "outputs": [
    {
     "name": "stdout",
     "output_type": "stream",
     "text": [
      "Variance score: 0.75\n"
     ]
    }
   ],
   "source": [
    "lam = 0.95\n",
    "w_trening = np.zeros((X_train.shape[1] + 1, 1))\n",
    "w_novi = ridge_regresija_gradijentna(X_train,y_train, lam , w_trening, 0.05,1000)\n",
    "\n",
    "y_predvidjanje = hipotetska_funkcija(X_test, w_novi)\n",
    "\n",
    "\n",
    "\n",
    "print('Variance score: %.2f' % r2_score(y_test, y_predvidjanje))\n"
   ]
  },
  {
   "cell_type": "markdown",
   "metadata": {},
   "source": [
    "# Istu  proveru sad vrsimo proveru da li je mozda bolje koristiti lasso i elastic net optimizaciju. "
   ]
  },
  {
   "cell_type": "markdown",
   "metadata": {},
   "source": [
    "### Lasso\n"
   ]
  },
  {
   "cell_type": "code",
   "execution_count": 29,
   "metadata": {
    "collapsed": true
   },
   "outputs": [],
   "source": [
    "def soft_thresholding(ro, lam):\n",
    "    if(ro < -lam/2):\n",
    "        return ro + lam/2\n",
    "    if(-lam/2 <= ro and ro  <= lam/2):\n",
    "        return 0\n",
    "    if(ro > lam/2):\n",
    "        return ro - lam/2\n",
    "\n",
    "def lasso_ro(X,w,y,i):\n",
    "    return np.dot(X[:,i], y - np.dot(X,w))\n",
    "\n",
    "#koordinatni gradijentni spust\n",
    "def lasso_regresija(X,y,lam, w,num_iter):\n",
    "    N = X.shape[0]\n",
    "    X_temp = np.concatenate((np.ones((X.shape[0], 1)), X), axis=1)\n",
    "    print(lam)\n",
    "    w[0] = np.sum(y - np.dot(X_temp[:,1:], w[1:]))/(X.shape[0])\n",
    "    for num in range(num_iter):\n",
    "        \n",
    "        for i in range(1, w.shape[0]):\n",
    "            tmp_w = copy.deepcopy(w)\n",
    "            tmp_w[i] = 0.0\n",
    "            ro = lasso_ro(X_temp,tmp_w,y,i)\n",
    "            #reda radi, brisati posle\n",
    "            #w[0] = ro\n",
    "            #brisati iznad\n",
    "            w[i] = soft_thresholding(ro, lam)\n",
    "            z = np.sum(X_temp[:,i]**2)\n",
    "            #preskakanje mogucnosti deljenja nulom\n",
    "            if(z == 0):\n",
    "                z = 1e-12\n",
    "            w[i] = w[i]/z\n",
    "\n",
    "        w[0] = np.sum(y - np.dot(X_temp[:, 1:], w[1:])) / (X_temp.shape[0])\n",
    "        \n",
    "    \n",
    "    return w\n"
   ]
  },
  {
   "cell_type": "markdown",
   "metadata": {},
   "source": [
    "### Vrsimo diskusiju l1 parametra koji najbolje prolazi"
   ]
  },
  {
   "cell_type": "code",
   "execution_count": 30,
   "metadata": {},
   "outputs": [
    {
     "name": "stdout",
     "output_type": "stream",
     "text": [
      "0.0\n",
      "Za lamdbu 0.00\n",
      "\tVariance score: 0.74\n",
      "0.05\n",
      "Za lamdbu 0.05\n",
      "\tVariance score: 0.74\n",
      "0.1\n",
      "Za lamdbu 0.10\n",
      "\tVariance score: 0.74\n",
      "0.15\n",
      "Za lamdbu 0.15\n",
      "\tVariance score: 0.74\n",
      "0.2\n",
      "Za lamdbu 0.20\n",
      "\tVariance score: 0.74\n",
      "0.25\n",
      "Za lamdbu 0.25\n",
      "\tVariance score: 0.74\n",
      "0.3\n",
      "Za lamdbu 0.30\n",
      "\tVariance score: 0.74\n",
      "0.35\n",
      "Za lamdbu 0.35\n",
      "\tVariance score: 0.74\n",
      "0.4\n",
      "Za lamdbu 0.40\n",
      "\tVariance score: 0.74\n",
      "0.45\n",
      "Za lamdbu 0.45\n",
      "\tVariance score: 0.74\n",
      "0.5\n",
      "Za lamdbu 0.50\n",
      "\tVariance score: 0.74\n",
      "0.55\n",
      "Za lamdbu 0.55\n",
      "\tVariance score: 0.74\n",
      "0.6\n",
      "Za lamdbu 0.60\n",
      "\tVariance score: 0.74\n",
      "0.65\n",
      "Za lamdbu 0.65\n",
      "\tVariance score: 0.74\n",
      "0.7\n",
      "Za lamdbu 0.70\n",
      "\tVariance score: 0.74\n",
      "0.75\n",
      "Za lamdbu 0.75\n",
      "\tVariance score: 0.74\n",
      "0.8\n",
      "Za lamdbu 0.80\n",
      "\tVariance score: 0.74\n",
      "0.85\n",
      "Za lamdbu 0.85\n",
      "\tVariance score: 0.74\n",
      "0.9\n",
      "Za lamdbu 0.90\n",
      "\tVariance score: 0.74\n",
      "0.95\n",
      "Za lamdbu 0.95\n",
      "\tVariance score: 0.74\n"
     ]
    },
    {
     "data": {
      "text/plain": [
       "<matplotlib.legend.Legend at 0x7fe08d610ad0>"
      ]
     },
     "execution_count": 30,
     "metadata": {},
     "output_type": "execute_result"
    },
    {
     "data": {
      "image/png": "[encoded data removed]",
      "text/plain": [
       "<matplotlib.figure.Figure at 0x7fe0b40454d0>"
      ]
     },
     "metadata": {},
     "output_type": "display_data"
    }
   ],
   "source": [
    "lam = np.arange(0,1, 0.05)\n",
    "#lam = np.random.uniform(0,1)\n",
    "r2_score_lam = np.empty([0,0])\n",
    "kriterijum_cv = np.empty([0,0])\n",
    "kriterijum_test = np.empty([0,0])\n",
    "kriterijum_train = np.empty([0,0])\n",
    "\n",
    "X_train, X_other, y_train, y_other = train_test_split(X,y, test_size=0.4)\n",
    "X_cv, X_test, y_cv, y_test = train_test_split(X_other, y_other, test_size=0.5)\n",
    "\n",
    "y_cv = y_cv.as_matrix()\n",
    "y_cv = np.reshape(y_cv,(y_cv.shape[0], 1))\n",
    "\n",
    "y_test = y_test.as_matrix()\n",
    "y_test = np.reshape(y_test,(y_test.shape[0], 1))\n",
    "\n",
    "y_train = y_train.as_matrix()\n",
    "y_train = np.reshape(y_train,(y_train.shape[0], 1))\n",
    "\n",
    "for lambda_uzorak in lam:\n",
    "    #za treniranje parametara, ovaj deo se ne dira\n",
    "    #w_trening = np.random.rand(X_train.shape[1] + 1, 1)\n",
    "    w_trening = np.zeros((X_train.shape[1] + 1, 1))\n",
    "    #istreniramo parametre\n",
    "    #w_novi = ridge_regresija_gradijentna(X_train,y_train, lambda_uzorak, w_trening, 0.05,1000)\n",
    "    \n",
    "    w_novi = lasso_regresija(X_train,y_train,lambda_uzorak, w_trening,100)\n",
    "    #validiramo na cv setu\n",
    "    y_predvidjanje = hipotetska_funkcija(X_cv, w_novi)\n",
    "    print('Za lamdbu %.2f' % lambda_uzorak)\n",
    "    print('\\tVariance score: %.2f' % r2_score(y_cv, y_predvidjanje))\n",
    "    \n",
    "    \n",
    "    #izracunamo cenu za kriterijume optimalnosti\n",
    "    kriterijum_train = np.append(kriterijum_train, kriterijum_optimalnosti(\\\n",
    "                                             X_train.shape[0],X_train, w_novi, y_train ))\n",
    "    kriterijum_cv = np.append(kriterijum_cv, kriterijum_optimalnosti(\\\n",
    "                                             X_cv.shape[0],X_cv, w_novi, y_cv))\n",
    "\n",
    "\n",
    "\n",
    "\n",
    "    \n",
    "plt.plot(lam, kriterijum_cv, 'b', label = 'CV greska')\n",
    "plt.plot(lam, kriterijum_train, 'r', label = 'Trening greska')\n",
    "plt.xlabel('lambda')\n",
    "plt.ylabel('kriterijum optimalnosti za lasso/l1 normu')\n",
    "plt.legend()"
   ]
  },
  {
   "cell_type": "markdown",
   "metadata": {},
   "source": [
    "### Zakljucujem da je svejedno da li cu korisiti regularizacioni parametar ili ne\n",
    "### Uzmimo da je regularizacioni parametar l  = 0.5"
   ]
  },
  {
   "cell_type": "code",
   "execution_count": 31,
   "metadata": {},
   "outputs": [
    {
     "name": "stdout",
     "output_type": "stream",
     "text": [
      "0.5\n",
      "(292, 1)\n",
      "(292, 1)\n",
      "Variance score: 0.70\n"
     ]
    }
   ],
   "source": [
    "lam = 0.5\n",
    "w_trening = np.zeros((X_train.shape[1] + 1, 1))\n",
    "\n",
    "w_novi = lasso_regresija(X_train,y_train, lam , w_trening,1000)\n",
    "\n",
    "y_predvidjanje = hipotetska_funkcija(X_test, w_novi)\n",
    "\n",
    "\n",
    "print('Variance score: %.2f' % r2_score_dusan(y_test, y_predvidjanje))"
   ]
  },
  {
   "cell_type": "markdown",
   "metadata": {},
   "source": [
    "### Elastic Net - Scikit "
   ]
  },
  {
   "cell_type": "markdown",
   "metadata": {},
   "source": [
    "### Ovde diskutujemo za koje lambda1 i lambda2 ce se dobro ponasati elastic net regresija. Dve su konstante jer elastic net predstavlja regularizaciju i po l1 i l2 normi.\n",
    "### Ovde se koristimo alpha-om i l1_normom, alpha stavljamo da je uvek 1, a posle cemo jednom transformacijom prebaciti u oblik po kojem se optimizovala formula, tj pokazacemo sta su lambda1 i lambda2"
   ]
  },
  {
   "cell_type": "code",
   "execution_count": 33,
   "metadata": {},
   "outputs": [
    {
     "name": "stdout",
     "output_type": "stream",
     "text": [
      "(50,)\n",
      "Za l1 udeo 0.00\n",
      "\tVariance score: 0.77\n",
      "(50,)\n",
      "Za l1 udeo 0.05\n",
      "\tVariance score: 0.77\n",
      "(50,)\n",
      "Za l1 udeo 0.10\n",
      "\tVariance score: 0.78\n",
      "(50,)\n",
      "Za l1 udeo 0.15\n",
      "\tVariance score: 0.78\n",
      "(50,)\n",
      "Za l1 udeo 0.20\n",
      "\tVariance score: 0.78\n",
      "(50,)\n",
      "Za l1 udeo 0.25\n",
      "\tVariance score: 0.78\n",
      "(50,)\n",
      "Za l1 udeo 0.30\n",
      "\tVariance score: 0.79\n",
      "(50,)\n",
      "Za l1 udeo 0.35\n",
      "\tVariance score: 0.79\n",
      "(50,)\n",
      "Za l1 udeo 0.40\n",
      "\tVariance score: 0.79\n",
      "(50,)\n",
      "Za l1 udeo 0.45\n",
      "\tVariance score: 0.79\n",
      "(50,)\n",
      "Za l1 udeo 0.50\n",
      "\tVariance score: 0.80\n",
      "(50,)\n",
      "Za l1 udeo 0.55\n",
      "\tVariance score: 0.80\n",
      "(50,)\n",
      "Za l1 udeo 0.60\n",
      "\tVariance score: 0.80\n",
      "(50,)\n",
      "Za l1 udeo 0.65\n",
      "\tVariance score: 0.80\n",
      "(50,)\n",
      "Za l1 udeo 0.70\n",
      "\tVariance score: 0.80\n",
      "(50,)\n",
      "Za l1 udeo 0.75\n",
      "\tVariance score: 0.80\n",
      "(50,)\n",
      "Za l1 udeo 0.80\n",
      "\tVariance score: 0.81\n",
      "(50,)\n",
      "Za l1 udeo 0.85\n",
      "\tVariance score: 0.81\n",
      "(50,)\n",
      "Za l1 udeo 0.90\n",
      "\tVariance score: 0.81\n",
      "(50,)\n",
      "Za l1 udeo 0.95\n",
      "\tVariance score: 0.80\n"
     ]
    },
    {
     "data": {
      "text/plain": [
       "<matplotlib.legend.Legend at 0x7fe08d45a5d0>"
      ]
     },
     "execution_count": 33,
     "metadata": {},
     "output_type": "execute_result"
    },
    {
     "data": {
      "image/png": "[encoded data removed]",
      "text/plain": [
       "<matplotlib.figure.Figure at 0x7fe08d79d9d0>"
      ]
     },
     "metadata": {},
     "output_type": "display_data"
    }
   ],
   "source": [
    "from sklearn.linear_model import ElasticNet\n",
    "\n",
    "X_train, X_other, y_train, y_other = train_test_split(X,y, test_size=0.4)\n",
    "X_cv, X_test, y_cv, y_test = train_test_split(X_other, y_other, test_size=0.5)\n",
    "\n",
    "\n",
    "l1_ratio_array = np.arange(0,1, 0.05)\n",
    "\n",
    "#r2_score_lam = np.empty([0,0])\n",
    "kriterijum_cv = np.empty([0,0])\n",
    "kriterijum_train = np.empty([0,0])\n",
    "\n",
    "for l1_ratio_uzorak in l1_ratio_array:\n",
    "    #istreniramo parametre\n",
    "     \n",
    "    regr = ElasticNet(random_state=0, l1_ratio = l1_ratio_uzorak, alpha = 1, max_iter = 1000)\n",
    "    regr.fit(X_train, y_train)\n",
    "    w_novi = regr.coef_\n",
    "    print(w_novi.shape)\n",
    "    y_predvidjanje = regr.predict(X_cv)\n",
    "    \n",
    "    print('Za l1 udeo %.2f' % l1_ratio_uzorak)\n",
    "    print('\\tVariance score: %.2f' % r2_score(y_cv, y_predvidjanje))\n",
    "    \n",
    "\n",
    "    \n",
    "    N = X_train.shape[0]\n",
    "    temp = (1/2.0/N)* np.sum(np.square(np.dot(X_train,w_novi) - y_train))\n",
    "    kriterijum_train = np.append(kriterijum_train, temp)\n",
    "    \n",
    "    N = X_cv.shape[0]\n",
    "    temp = (1/2.0/N)* np.sum(np.square(np.dot(X_cv,w_novi) - y_cv))\n",
    "    kriterijum_cv = np.append(kriterijum_cv, temp)\n",
    "\n",
    "#     regr = ElasticNet(random_state=0, l1_ratio = l1_ratio_uzorak, alpha = 20, max_iter = 1000)\n",
    "#     regr.fit()\n",
    "\n",
    "\n",
    "\n",
    "\n",
    "\n",
    "plt.plot(l1_ratio_array, kriterijum_train, 'r', label = 'Trening greska')\n",
    "plt.plot(l1_ratio_array, kriterijum_cv, 'b', label = 'CV greska')\n",
    "\n",
    "plt.xlabel('l1_ratio')\n",
    "plt.ylabel('kriterijum optimalnosti za Elastic Net')\n",
    "plt.legend()\n",
    "\n"
   ]
  },
  {
   "cell_type": "markdown",
   "metadata": {},
   "source": [
    "### Zakljucujemo da je odnos u kojem l1 dominira najbolji za koriscenje u regularizaciji, te cemo njega koristiti u odnosu sa l2 kao l1:l2 = 0.9:0.1"
   ]
  },
  {
   "cell_type": "code",
   "execution_count": 34,
   "metadata": {},
   "outputs": [
    {
     "name": "stdout",
     "output_type": "stream",
     "text": [
      "\tVariance score: 0.77\n"
     ]
    }
   ],
   "source": [
    "l1_ratio_uzorak = 0.9\n",
    "regr = ElasticNet(random_state=0, l1_ratio = l1_ratio_uzorak, alpha = 1, max_iter = 1000)\n",
    "regr.fit(X_train, y_train)\n",
    "w_novi = regr.coef_\n",
    "\n",
    "N = X_train.shape[0]\n",
    "y_predvidjanje = regr.predict(X_test)\n",
    "print('\\tVariance score: %.2f' % r2_score(y_test, y_predvidjanje))\n",
    "    "
   ]
  },
  {
   "cell_type": "markdown",
   "metadata": {},
   "source": [
    "# Zakljucak:\n",
    "### Nije bitno koji bih regularizacioni parametar koristio, posto se svi algoritmi relativno dobro ponasaju, ali nedovoljno da bi se on koristio za neke ozbiljnije predikcije, jer daje r2 skor izmedju 0.5 - 0.6. Zamerio bih na cinjenici da krajni test dosta zavisi od raspodele uzoraka za razlicite faze, pa bih verovatno vise proveo vremena u analizi obelezja, posto ocito da to predstavlja 'usko grlo' problema i velika dimenzionalnost problema u odnosu na broj uzoraka."
   ]
  },
  {
   "cell_type": "markdown",
   "metadata": {},
   "source": [
    "## Opcioni zadatak i dopuna projektu: \n",
    "## Uporediti r2 score sa naprednijim algoritmima za predvidjanje kao sto su Support Vector Regression i Gradient Boosting. Ovde iskljucivo koristim scikit biblioteku (ne ocekujte da znam tacnu implementaciju)"
   ]
  },
  {
   "cell_type": "markdown",
   "metadata": {},
   "source": [
    "### SVR - Support Vector Regression + Gausov kernel (RBF)\n"
   ]
  },
  {
   "cell_type": "code",
   "execution_count": 35,
   "metadata": {},
   "outputs": [
    {
     "name": "stdout",
     "output_type": "stream",
     "text": [
      "(876, 50)\n",
      "(876,)\n",
      "(292,)\n",
      "(292,)\n",
      "R2 skor za svr regresiju je: -0.0221846263051\n"
     ]
    }
   ],
   "source": [
    "from sklearn.svm import SVR\n",
    "\n",
    "X_train, X_other, y_train, y_other = train_test_split(X,y, test_size=0.4)\n",
    "X_cv, X_test, y_cv, y_test = train_test_split(X_other, y_other, test_size=0.5)\n",
    "\n",
    "clf = SVR(kernel = 'rbf') #da se zna da je Gaus\n",
    "print(X_train.shape)\n",
    "print(y_train.shape)\n",
    "clf.fit(X_train, y_train)\n",
    "y_predvidjanje = clf.predict(X_test)\n",
    "\n",
    "\n",
    "print('R2 skor za svr regresiju je: ' + str(r2_score_dusan(y_predvidjanje, y_test)))"
   ]
  },
  {
   "cell_type": "markdown",
   "metadata": {},
   "source": [
    "### Sad primenom Gradient Boosting-a proveravamo "
   ]
  },
  {
   "cell_type": "code",
   "execution_count": 36,
   "metadata": {},
   "outputs": [
    {
     "name": "stdout",
     "output_type": "stream",
     "text": [
      "(292,)\n",
      "(292,)\n",
      "R2 skor za gradient boosting je 0.746334452934\n"
     ]
    }
   ],
   "source": [
    "from sklearn import ensemble\n",
    "\n",
    "X_train, X_other, y_train, y_other = train_test_split(X,y, test_size=0.4)\n",
    "X_cv, X_test, y_cv, y_test = train_test_split(X_other, y_other, test_size=0.5)\n",
    "\n",
    "clf = ensemble.GradientBoostingRegressor()\n",
    "clf.fit(X_train, y_train)\n",
    "\n",
    "y_predvidjanje = clf.predict(X_test)\n",
    "#print(clf.score(X_test, y_test))\n",
    "print(\"R2 skor za gradient boosting je \" + str(r2_score_dusan(y_predvidjanje, y_test)))"
   ]
  }
 ],
 "metadata": {
  "kernelspec": {
   "display_name": "Python 2",
   "language": "python",
   "name": "python2"
  },
  "language_info": {
   "codemirror_mode": {
    "name": "ipython",
    "version": 2
   },
   "file_extension": ".py",
   "mimetype": "text/x-python",
   "name": "python",
   "nbconvert_exporter": "python",
   "pygments_lexer": "ipython2",
   "version": "2.7.13"
  }
 },
 "nbformat": 4,
 "nbformat_minor": 1
}
